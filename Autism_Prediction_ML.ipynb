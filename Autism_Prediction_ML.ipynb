{
  "nbformat": 4,
  "nbformat_minor": 0,
  "metadata": {
    "colab": {
      "provenance": [],
      "authorship_tag": "ABX9TyMC5ic3cbQwP9iwHeAaAy7b",
      "include_colab_link": true
    },
    "kernelspec": {
      "name": "python3",
      "display_name": "Python 3"
    },
    "language_info": {
      "name": "python"
    }
  },
  "cells": [
    {
      "cell_type": "markdown",
      "metadata": {
        "id": "view-in-github",
        "colab_type": "text"
      },
      "source": [
        "<a href=\"https://colab.research.google.com/github/dipanshiverma/Autism_Prediction_ML/blob/main/Autism_Prediction_ML.ipynb\" target=\"_parent\"><img src=\"https://colab.research.google.com/assets/colab-badge.svg\" alt=\"Open In Colab\"/></a>"
      ]
    },
    {
      "cell_type": "markdown",
      "source": [
        "1. Importing the dependencies"
      ],
      "metadata": {
        "id": "6RLRaHsR1RX8"
      }
    },
    {
      "cell_type": "code",
      "source": [
        "import numpy as np\n",
        "import pandas as pd\n",
        "import matplotlib.pyplot as plt\n",
        "import seaborn as sns\n",
        "from sklearn.preprocessing import LabelEncoder\n",
        "from imblearn.over_sampling import SMOTE\n",
        "from sklearn.model_selection import train_test_split, cross_val_score, RandomizedSearchCV\n",
        "from sklearn.tree import DecisionTreeClassifier\n",
        "from sklearn.ensemble import RandomForestClassifier\n",
        "from xgboost import XGBClassifier\n",
        "from sklearn.metrics import accuracy_score, confusion_matrix, classification_report\n",
        "import pickle"
      ],
      "metadata": {
        "id": "SwOtaU9g1Ukr"
      },
      "execution_count": null,
      "outputs": []
    },
    {
      "cell_type": "markdown",
      "source": [
        "2. Data Loading & Understanding"
      ],
      "metadata": {
        "id": "KFUJp8n41ZLA"
      }
    },
    {
      "cell_type": "code",
      "source": [
        "# read the csv data to a pandas dataframe\n",
        "df = pd.read_csv(\"/content/train.csv\")"
      ],
      "metadata": {
        "id": "cPefnKL01jKs"
      },
      "execution_count": null,
      "outputs": []
    },
    {
      "cell_type": "markdown",
      "source": [
        "Initial Inspection"
      ],
      "metadata": {
        "id": "GH93rv7e15MA"
      }
    },
    {
      "cell_type": "code",
      "source": [
        "df.shape"
      ],
      "metadata": {
        "id": "vEAsvGfY1-px"
      },
      "execution_count": null,
      "outputs": []
    },
    {
      "cell_type": "code",
      "source": [
        "df.head()"
      ],
      "metadata": {
        "id": "MA9dCVEa1wft"
      },
      "execution_count": null,
      "outputs": []
    },
    {
      "cell_type": "code",
      "source": [
        "df.tail()"
      ],
      "metadata": {
        "id": "n6VFazLG2D68"
      },
      "execution_count": null,
      "outputs": []
    },
    {
      "cell_type": "code",
      "source": [
        "# display all columns of a dataframe\n",
        "pd.set_option('display.max_columns', None)"
      ],
      "metadata": {
        "id": "yL2IXR1b2Kx5"
      },
      "execution_count": null,
      "outputs": []
    },
    {
      "cell_type": "code",
      "source": [
        "df.info()"
      ],
      "metadata": {
        "id": "v_UcBgrL2Svw"
      },
      "execution_count": null,
      "outputs": []
    },
    {
      "cell_type": "code",
      "source": [
        "# convert age column datatype to integer\n",
        "df[\"age\"] = df[\"age\"].astype(int)"
      ],
      "metadata": {
        "id": "K4b2dBJT2VoH"
      },
      "execution_count": null,
      "outputs": []
    },
    {
      "cell_type": "code",
      "source": [
        "df.head(2)"
      ],
      "metadata": {
        "id": "QXD4euxI2dLr"
      },
      "execution_count": null,
      "outputs": []
    },
    {
      "cell_type": "code",
      "source": [
        "for col in df.columns:\n",
        "  numerical_features = [\"ID\", \"age\", \"result\"]\n",
        "  if col not in numerical_features:\n",
        "    print(col, df[col].unique())\n",
        "    print(\"-\"*50)"
      ],
      "metadata": {
        "id": "5xxURywC2gvB"
      },
      "execution_count": null,
      "outputs": []
    },
    {
      "cell_type": "code",
      "source": [
        "# dropping ID & age_desc column\n",
        "df = df.drop(columns=[\"ID\", \"age_desc\"])"
      ],
      "metadata": {
        "id": "0ffptG7z2713"
      },
      "execution_count": null,
      "outputs": []
    },
    {
      "cell_type": "code",
      "source": [
        "df.shape"
      ],
      "metadata": {
        "id": "jQC4RPxs218i"
      },
      "execution_count": null,
      "outputs": []
    },
    {
      "cell_type": "code",
      "source": [
        "df.head(2)"
      ],
      "metadata": {
        "id": "Z4V-eBm92_tF"
      },
      "execution_count": null,
      "outputs": []
    },
    {
      "cell_type": "code",
      "source": [
        "df.columns"
      ],
      "metadata": {
        "id": "rdCLweaD3ENj"
      },
      "execution_count": null,
      "outputs": []
    },
    {
      "cell_type": "code",
      "source": [
        "df[\"contry_of_res\"].unique()"
      ],
      "metadata": {
        "id": "0UKU_J4J3Hxs"
      },
      "execution_count": null,
      "outputs": []
    },
    {
      "cell_type": "code",
      "source": [
        "# define the mapping dictionary for country names\n",
        "mapping = {\n",
        "    \"Viet Nam\": \"Vietnam\",\n",
        "    \"AmericanSamoa\": \"United States\",\n",
        "    \"Hong Kong\": \"China\"\n",
        "}\n",
        "\n",
        "# repalce value in the country column\n",
        "df[\"contry_of_res\"] = df[\"contry_of_res\"].replace(mapping)"
      ],
      "metadata": {
        "id": "ZrLkopUW3Lkp"
      },
      "execution_count": null,
      "outputs": []
    },
    {
      "cell_type": "code",
      "source": [
        "df[\"contry_of_res\"].unique()"
      ],
      "metadata": {
        "id": "gzYMm8qV3QQ8"
      },
      "execution_count": null,
      "outputs": []
    },
    {
      "cell_type": "code",
      "source": [
        "# taget class distribution\n",
        "df[\"Class/ASD\"].value_counts()"
      ],
      "metadata": {
        "id": "M4egZQD13YZI"
      },
      "execution_count": null,
      "outputs": []
    },
    {
      "cell_type": "markdown",
      "source": [
        "\n",
        "Insights:\n",
        "\n",
        "1. missing values in ethnicity & relation\n",
        "2. age_desc column has only 1 unique value. so it is  removed as it is not important for prediction\n",
        "4. fixed country names\n",
        "3. identified class imbalance in the target column"
      ],
      "metadata": {
        "id": "wmVU0-dg33o9"
      }
    },
    {
      "cell_type": "markdown",
      "source": [
        "\n",
        "3. Exploratory Data Analysis (EDA)"
      ],
      "metadata": {
        "id": "yK3uVecP4Yvw"
      }
    },
    {
      "cell_type": "code",
      "source": [
        "df.shape"
      ],
      "metadata": {
        "id": "9r7kvdvl4SX7"
      },
      "execution_count": null,
      "outputs": []
    },
    {
      "cell_type": "code",
      "source": [
        "df.columns"
      ],
      "metadata": {
        "id": "k3l9PMWp4fvM"
      },
      "execution_count": null,
      "outputs": []
    },
    {
      "cell_type": "code",
      "source": [
        "df.head(2)"
      ],
      "metadata": {
        "id": "L7TpYRJ04jvL"
      },
      "execution_count": null,
      "outputs": []
    },
    {
      "cell_type": "code",
      "source": [
        "df.describe()"
      ],
      "metadata": {
        "id": "xVaKP7EC0Hgr"
      },
      "execution_count": null,
      "outputs": []
    },
    {
      "cell_type": "markdown",
      "source": [
        "Univariate Analysis"
      ],
      "metadata": {
        "id": "CmRJBgZF496E"
      }
    },
    {
      "cell_type": "markdown",
      "source": [
        "Numerical Columns:\n",
        "*   age\n",
        "*   result\n"
      ],
      "metadata": {
        "id": "FGRWIV_25C_E"
      }
    },
    {
      "cell_type": "code",
      "source": [
        "# set the desired theme\n",
        "sns.set_theme(style=\"darkgrid\")"
      ],
      "metadata": {
        "id": "S07Safq943fB"
      },
      "execution_count": null,
      "outputs": []
    },
    {
      "cell_type": "markdown",
      "source": [
        "Distribution Plots"
      ],
      "metadata": {
        "id": "h5k8SU8g5oPZ"
      }
    },
    {
      "cell_type": "code",
      "source": [
        "# Histogram for \"age\"\n",
        "\n",
        "sns.histplot(df[\"age\"], kde=True)\n",
        "plt.title(\"Distribution of Age\")\n",
        "\n",
        "# calculate mean and median\n",
        "age_mean = df[\"age\"].mean()\n",
        "age_median = df[\"age\"].median()\n",
        "\n",
        "print(\"Mean:\", age_mean)\n",
        "print(\"Median:\", age_median)\n",
        "\n",
        "\n",
        "# add vertical lines for mean and median\n",
        "plt.axvline(age_mean, color=\"red\", linestyle=\"--\", label=\"Mean\")\n",
        "plt.axvline(age_median, color=\"green\", linestyle=\"-\", label=\"Median\")\n",
        "\n",
        "plt.legend()\n",
        "\n",
        "plt.show()"
      ],
      "metadata": {
        "id": "Puyej58_5pbO"
      },
      "execution_count": null,
      "outputs": []
    },
    {
      "cell_type": "code",
      "source": [
        "# Histogram for \"result\"\n",
        "\n",
        "sns.histplot(df[\"result\"], kde=True)\n",
        "plt.title(\"Distribution of result\")\n",
        "\n",
        "# calculate mean and median\n",
        "result_mean = df[\"result\"].mean()\n",
        "result_median = df[\"result\"].median()\n",
        "\n",
        "print(\"Mean:\", result_mean)\n",
        "print(\"Median:\", result_median)\n",
        "\n",
        "\n",
        "# add vertical lines for mean and median\n",
        "plt.axvline(result_mean, color=\"red\", linestyle=\"--\", label=\"Mean\")\n",
        "plt.axvline(result_median, color=\"green\", linestyle=\"-\", label=\"Median\")\n",
        "\n",
        "plt.legend()\n",
        "\n",
        "plt.show()"
      ],
      "metadata": {
        "id": "v49jVKUb50sD"
      },
      "execution_count": null,
      "outputs": []
    },
    {
      "cell_type": "markdown",
      "source": [
        "\n",
        "Box plots for identifying outliers in the numerical columns"
      ],
      "metadata": {
        "id": "Bfp2WyUN6AYr"
      }
    },
    {
      "cell_type": "code",
      "source": [
        "# box plot\n",
        "sns.boxplot(x=df[\"age\"])\n",
        "plt.title(\"Box Plot for Age\")\n",
        "plt.xlabel(\"Age\")\n",
        "plt.show()"
      ],
      "metadata": {
        "id": "RdTwFZF-56CG"
      },
      "execution_count": null,
      "outputs": []
    },
    {
      "cell_type": "code",
      "source": [
        "# box plot\n",
        "sns.boxplot(x=df[\"result\"])\n",
        "plt.title(\"Box Plot for result\")\n",
        "plt.xlabel(\"result\")\n",
        "plt.show()"
      ],
      "metadata": {
        "id": "cFRn24G26EVP"
      },
      "execution_count": null,
      "outputs": []
    },
    {
      "cell_type": "code",
      "source": [
        "# count the outliers using IQR method\n",
        "Q1 = df[\"age\"].quantile(0.25)\n",
        "Q3 = df[\"age\"].quantile(0.75)\n",
        "IQR = Q3 - Q1\n",
        "lower_bound = Q1 - 1.5 * IQR\n",
        "upper_bound = Q3 + 1.5 * IQR\n",
        "age_outliers = df[(df[\"age\"] < lower_bound) | (df[\"age\"] > upper_bound)]"
      ],
      "metadata": {
        "id": "lZ-IRaWt6H62"
      },
      "execution_count": null,
      "outputs": []
    },
    {
      "cell_type": "code",
      "source": [
        "len(age_outliers)"
      ],
      "metadata": {
        "id": "TKkuMVHK6Lrz"
      },
      "execution_count": null,
      "outputs": []
    },
    {
      "cell_type": "code",
      "source": [
        "# count the outliers using IQR method\n",
        "Q1 = df[\"result\"].quantile(0.25)\n",
        "Q3 = df[\"result\"].quantile(0.75)\n",
        "IQR = Q3 - Q1\n",
        "lower_bound = Q1 - 1.5 * IQR\n",
        "upper_bound = Q3 + 1.5 * IQR\n",
        "result_outliers = df[(df[\"result\"] < lower_bound) | (df[\"result\"] > upper_bound)]"
      ],
      "metadata": {
        "id": "G_yhD4jJ6QgB"
      },
      "execution_count": null,
      "outputs": []
    },
    {
      "cell_type": "code",
      "source": [
        "len(result_outliers)"
      ],
      "metadata": {
        "id": "8FvEGCIN6Wz8"
      },
      "execution_count": null,
      "outputs": []
    },
    {
      "cell_type": "markdown",
      "source": [
        "\n",
        "Univariate analysis of Categorical columns"
      ],
      "metadata": {
        "id": "Pg6FJ4R-6de1"
      }
    },
    {
      "cell_type": "code",
      "source": [
        "df.columns"
      ],
      "metadata": {
        "id": "Jz5xo3D06aUp"
      },
      "execution_count": null,
      "outputs": []
    },
    {
      "cell_type": "code",
      "source": [
        "categorical_columns = ['A1_Score', 'A2_Score', 'A3_Score', 'A4_Score', 'A5_Score', 'A6_Score',\n",
        "       'A7_Score', 'A8_Score', 'A9_Score', 'A10_Score', 'gender',\n",
        "       'ethnicity', 'jaundice', 'austim', 'contry_of_res', 'used_app_before',\n",
        "       'relation']\n",
        "\n",
        "for col in categorical_columns:\n",
        "  sns.countplot(x=df[col])\n",
        "  plt.title(f\"Count Plot for {col}\")\n",
        "  plt.xlabel(col)\n",
        "  plt.ylabel(\"Count\")\n",
        "  plt.show()"
      ],
      "metadata": {
        "id": "RE_JlXRY6icj"
      },
      "execution_count": null,
      "outputs": []
    },
    {
      "cell_type": "code",
      "source": [
        "# countplot for target column (Class/ASD)\n",
        "sns.countplot(x=df[\"Class/ASD\"])\n",
        "plt.title(\"Count Plot for Class/ASD\")\n",
        "plt.xlabel(\"Class/ASD\")\n",
        "plt.ylabel(\"Count\")\n",
        "plt.show()"
      ],
      "metadata": {
        "id": "doHBkvQa6oDQ"
      },
      "execution_count": null,
      "outputs": []
    },
    {
      "cell_type": "code",
      "source": [
        "df[\"Class/ASD\"].value_counts()\n"
      ],
      "metadata": {
        "id": "U9y3Olnd607Q"
      },
      "execution_count": null,
      "outputs": []
    },
    {
      "cell_type": "markdown",
      "source": [
        "handle missing values in ethnicity and relation column\n"
      ],
      "metadata": {
        "id": "mP6B_CV764-_"
      }
    },
    {
      "cell_type": "code",
      "source": [
        "df[\"ethnicity\"] = df[\"ethnicity\"].replace({\"?\": \"Others\", \"others\": \"Others\"})"
      ],
      "metadata": {
        "id": "CWbAa4cj6xxc"
      },
      "execution_count": null,
      "outputs": []
    },
    {
      "cell_type": "code",
      "source": [
        "df[\"ethnicity\"].unique()"
      ],
      "metadata": {
        "id": "qdd8I-bq7Bzh"
      },
      "execution_count": null,
      "outputs": []
    },
    {
      "cell_type": "code",
      "source": [
        "df[\"relation\"] = df[\"relation\"].replace(\n",
        "    {\"?\": \"Others\",\n",
        "     \"Relative\": \"Others\",\n",
        "     \"Parent\": \"Others\",\n",
        "     \"Health care professional\": \"Others\"}\n",
        ")"
      ],
      "metadata": {
        "id": "fYVm-dzi7I2U"
      },
      "execution_count": null,
      "outputs": []
    },
    {
      "cell_type": "code",
      "source": [
        "df[\"relation\"].unique()"
      ],
      "metadata": {
        "id": "ejTfbv1Q7Wek"
      },
      "execution_count": null,
      "outputs": []
    },
    {
      "cell_type": "code",
      "source": [
        "df.head()"
      ],
      "metadata": {
        "id": "XOw1oukF7ar0"
      },
      "execution_count": null,
      "outputs": []
    },
    {
      "cell_type": "markdown",
      "source": [
        "Label Encoding"
      ],
      "metadata": {
        "id": "w4fTM9bb7hWf"
      }
    },
    {
      "cell_type": "code",
      "source": [
        "# identify columns with \"object\" data type\n",
        "object_columns = df.select_dtypes(include=[\"object\"]).columns"
      ],
      "metadata": {
        "id": "N-BOFgXN7eGM"
      },
      "execution_count": null,
      "outputs": []
    },
    {
      "cell_type": "code",
      "source": [
        "print(object_columns)"
      ],
      "metadata": {
        "id": "V05563i87l0G"
      },
      "execution_count": null,
      "outputs": []
    },
    {
      "cell_type": "code",
      "source": [
        "# initialize a dictionary to store the encoders\n",
        "encoders = {}\n",
        "\n",
        "# apply label encoding and store the encoders\n",
        "for column in object_columns:\n",
        "  label_encoder = LabelEncoder()\n",
        "  df[column] = label_encoder.fit_transform(df[column])\n",
        "  encoders[column] = label_encoder   # saving the encoder for this column\n",
        "\n",
        "\n",
        "# save the encoders as a pickle file\n",
        "with open(\"encoders.pkl\", \"wb\") as f:\n",
        "  pickle.dump(encoders, f)"
      ],
      "metadata": {
        "id": "mTpsrGme7tiM"
      },
      "execution_count": null,
      "outputs": []
    },
    {
      "cell_type": "markdown",
      "source": [
        "encoders"
      ],
      "metadata": {
        "id": "AeKv1mQY8Z-V"
      }
    },
    {
      "cell_type": "code",
      "source": [
        "df.head()"
      ],
      "metadata": {
        "id": "Yhji7SGn9Ps2"
      },
      "execution_count": null,
      "outputs": []
    },
    {
      "cell_type": "markdown",
      "source": [
        "Bivariate Analysis"
      ],
      "metadata": {
        "id": "MwdosEgp9idZ"
      }
    },
    {
      "cell_type": "code",
      "source": [
        "# correlation matrix\n",
        "plt.figure(figsize=(15, 15))\n",
        "sns.heatmap(df.corr(), annot=True, cmap=\"coolwarm\", fmt=\".2f\")\n",
        "plt.title(\"Correlation heatmap\")\n",
        "plt.show()"
      ],
      "metadata": {
        "id": "vMSx1FV1_Mae"
      },
      "execution_count": null,
      "outputs": []
    },
    {
      "cell_type": "markdown",
      "source": [
        "\n",
        "Insights from EDA:\n",
        "\n",
        "\n",
        "*   There are few outliers in the numerical columns (age, results)\n",
        "*   There is a class imbalance in the target column\n",
        "\n",
        "\n",
        "*   There is a class imbalance in the categorical features\n",
        "\n",
        "*   We don't have any highly correlated column\n",
        "*  performed label encoding and saved the encoders"
      ],
      "metadata": {
        "id": "DkncZPfm3RO8"
      }
    },
    {
      "cell_type": "markdown",
      "source": [
        "4. Data preprocessing"
      ],
      "metadata": {
        "id": "CafbAnx24KAc"
      }
    },
    {
      "cell_type": "markdown",
      "source": [
        "Handling the outliers"
      ],
      "metadata": {
        "id": "B80jSd_44TLP"
      }
    },
    {
      "cell_type": "code",
      "source": [
        "# function to replace the outliers with median\n",
        "def replace_outliers_with_median(df, column):\n",
        "  Q1 = df[column].quantile(0.25)\n",
        "  Q3 = df[column].quantile(0.75)\n",
        "  IQR = Q3 - Q1\n",
        "\n",
        "  lower_bound = Q1 - 1.5 * IQR\n",
        "  upper_bound = Q3 + 1.5 * IQR\n",
        "\n",
        "  median = df[column].median()\n",
        "\n",
        "  # replace outliers with median value\n",
        "  df[column] = df[column].apply(lambda x: median if x < lower_bound or x > upper_bound else x)\n",
        "\n",
        "  return df"
      ],
      "metadata": {
        "id": "ZrcgRh_4wi9R"
      },
      "execution_count": null,
      "outputs": []
    },
    {
      "cell_type": "code",
      "source": [
        "# replace outliers in the \"age\" column\n",
        "df = replace_outliers_with_median(df, \"age\")\n",
        "\n",
        "# replace outliers in the \"result\" column\n",
        "df = replace_outliers_with_median(df, \"result\")"
      ],
      "metadata": {
        "id": "b0BMbEKa4Z0I"
      },
      "execution_count": null,
      "outputs": []
    },
    {
      "cell_type": "code",
      "source": [
        "df.head()"
      ],
      "metadata": {
        "id": "9CDiJDXO4ddu"
      },
      "execution_count": null,
      "outputs": []
    },
    {
      "cell_type": "code",
      "source": [
        "df.shape"
      ],
      "metadata": {
        "id": "SiDo5YSt4grH"
      },
      "execution_count": null,
      "outputs": []
    },
    {
      "cell_type": "markdown",
      "source": [
        "Train Test Split"
      ],
      "metadata": {
        "id": "hI1F_Hhv4moX"
      }
    },
    {
      "cell_type": "code",
      "source": [
        "df.columns"
      ],
      "metadata": {
        "id": "trkpDR8u4juH"
      },
      "execution_count": null,
      "outputs": []
    },
    {
      "cell_type": "code",
      "source": [
        "X = df.drop(columns=[\"Class/ASD\"])\n",
        "y = df[\"Class/ASD\"]"
      ],
      "metadata": {
        "id": "ikflUAwO4pWd"
      },
      "execution_count": null,
      "outputs": []
    },
    {
      "cell_type": "code",
      "source": [
        "print(X)"
      ],
      "metadata": {
        "id": "RHI1qEo84stI"
      },
      "execution_count": null,
      "outputs": []
    },
    {
      "cell_type": "code",
      "source": [
        "print(y)"
      ],
      "metadata": {
        "id": "qJtnrlIZ4x1T"
      },
      "execution_count": null,
      "outputs": []
    },
    {
      "cell_type": "code",
      "source": [
        "X_train, X_test, y_train, y_test = train_test_split(X, y, test_size=0.2, random_state=42)"
      ],
      "metadata": {
        "id": "FU6BSnqA41Qv"
      },
      "execution_count": null,
      "outputs": []
    },
    {
      "cell_type": "code",
      "source": [
        "print(y_train.shape)\n",
        "print(y_test.shape)"
      ],
      "metadata": {
        "id": "4zeJzpH244SF"
      },
      "execution_count": null,
      "outputs": []
    },
    {
      "cell_type": "code",
      "source": [
        "y_train.value_counts()"
      ],
      "metadata": {
        "id": "xRk68SSd46Xg"
      },
      "execution_count": null,
      "outputs": []
    },
    {
      "cell_type": "code",
      "source": [
        "y_test.value_counts()"
      ],
      "metadata": {
        "id": "uJPf85N749SP"
      },
      "execution_count": null,
      "outputs": []
    },
    {
      "cell_type": "markdown",
      "source": [
        "\n",
        "SMOTE (Synthetic Minority Oversampling technique)"
      ],
      "metadata": {
        "id": "TqcJfGDH5DHY"
      }
    },
    {
      "cell_type": "code",
      "source": [
        "smote = SMOTE(random_state=42)"
      ],
      "metadata": {
        "id": "tocExCJz5AR9"
      },
      "execution_count": null,
      "outputs": []
    },
    {
      "cell_type": "code",
      "source": [
        "X_train_smote, y_train_smote = smote.fit_resample(X_train, y_train)"
      ],
      "metadata": {
        "id": "UeHiiHZF5TW4"
      },
      "execution_count": null,
      "outputs": []
    },
    {
      "cell_type": "code",
      "source": [
        "print(y_train_smote.shape)"
      ],
      "metadata": {
        "id": "jP7--edI5ahv"
      },
      "execution_count": null,
      "outputs": []
    },
    {
      "cell_type": "code",
      "source": [
        "print(y_train_smote.value_counts())"
      ],
      "metadata": {
        "id": "dSRXVJYE7blH"
      },
      "execution_count": null,
      "outputs": []
    },
    {
      "cell_type": "markdown",
      "source": [
        "5. Model Training"
      ],
      "metadata": {
        "id": "jxLOSLDA7iyR"
      }
    },
    {
      "cell_type": "code",
      "source": [
        "# dictionary of classifiers\n",
        "models = {\n",
        "    \"Decision Tree\": DecisionTreeClassifier(random_state=42),\n",
        "    \"Random Forest\": RandomForestClassifier(random_state=42),\n",
        "    \"XGBoost\": XGBClassifier(random_state=42)\n",
        "}"
      ],
      "metadata": {
        "id": "kU0OVt3y7epb"
      },
      "execution_count": null,
      "outputs": []
    },
    {
      "cell_type": "code",
      "source": [
        "# dictionary to store the cross validation results\n",
        "cv_scores = {}\n",
        "\n",
        "# perform 5-fold cross validation for each model\n",
        "for model_name, model in models.items():\n",
        "  print(f\"Training {model_name} with default parameters...\")\n",
        "  scores = cross_val_score(model, X_train_smote, y_train_smote, cv=5, scoring=\"accuracy\")\n",
        "  cv_scores[model_name] = scores\n",
        "  print(f\"{model_name} Cross-Validation Accuracy: {np.mean(scores):.2f}\")\n",
        "  print(\"-\"*50)"
      ],
      "metadata": {
        "id": "wc1xY-as7nS0"
      },
      "execution_count": null,
      "outputs": []
    },
    {
      "cell_type": "code",
      "source": [
        "cv_scores"
      ],
      "metadata": {
        "id": "eA9-Pm8I7qN4"
      },
      "execution_count": null,
      "outputs": []
    },
    {
      "cell_type": "markdown",
      "source": [
        "\n",
        "6. Model Selection & Hyperparameter Tuning"
      ],
      "metadata": {
        "id": "6_CiweIo70GK"
      }
    },
    {
      "cell_type": "code",
      "source": [
        "# Initializing models\n",
        "decision_tree = DecisionTreeClassifier(random_state=42)\n",
        "random_forest = RandomForestClassifier(random_state=42)\n",
        "xgboost_classifier = XGBClassifier(random_state=42)"
      ],
      "metadata": {
        "id": "HSO_sk2X7xEz"
      },
      "execution_count": null,
      "outputs": []
    },
    {
      "cell_type": "code",
      "source": [
        "# Hyperparameter grids for RandomizedSearchCV\n",
        "\n",
        "param_grid_dt = {\n",
        "    \"criterion\": [\"gini\", \"entropy\"],\n",
        "    \"max_depth\": [None, 10, 20, 30, 50, 70],\n",
        "    \"min_samples_split\": [2, 5, 10],\n",
        "    \"min_samples_leaf\": [1, 2, 4]\n",
        "}\n",
        "\n",
        "\n",
        "param_grid_rf = {\n",
        "    \"n_estimators\": [50, 100, 200, 500],\n",
        "    \"max_depth\": [None, 10, 20, 30],\n",
        "    \"min_samples_split\": [2, 5, 10],\n",
        "    \"min_samples_leaf\": [1, 2, 4],\n",
        "    \"bootstrap\": [True, False]\n",
        "}\n",
        "\n",
        "\n",
        "param_grid_xgb = {\n",
        "    \"n_estimators\": [50, 100, 200, 500],\n",
        "    \"max_depth\": [3, 5, 7, 10],\n",
        "    \"learning_rate\": [0.01, 0.1, 0.2, 0.3],\n",
        "    \"subsample\": [0.5, 0.7, 1.0],\n",
        "    \"colsample_bytree\": [0.5, 0.7, 1.0]\n",
        "}"
      ],
      "metadata": {
        "id": "H-arFouI73m_"
      },
      "execution_count": null,
      "outputs": []
    },
    {
      "cell_type": "code",
      "source": [
        "# hyperparameter tunig for 3 tree based models\n",
        "\n",
        "# the below steps can be automated by using a for loop or by using a pipeline\n",
        "\n",
        "# perform RandomizedSearchCV for each model\n",
        "random_search_dt = RandomizedSearchCV(estimator=decision_tree, param_distributions=param_grid_dt, n_iter=20, cv=5, scoring=\"accuracy\", random_state=42)\n",
        "random_search_rf = RandomizedSearchCV(estimator=random_forest, param_distributions=param_grid_rf, n_iter=20, cv=5, scoring=\"accuracy\", random_state=42)\n",
        "random_search_xgb = RandomizedSearchCV(estimator=xgboost_classifier, param_distributions=param_grid_xgb, n_iter=20, cv=5, scoring=\"accuracy\", random_state=42)\n"
      ],
      "metadata": {
        "id": "yHHQnVPm78Ue"
      },
      "execution_count": null,
      "outputs": []
    },
    {
      "cell_type": "code",
      "source": [
        "# fit the models\n",
        "random_search_dt.fit(X_train_smote, y_train_smote)\n",
        "random_search_rf.fit(X_train_smote, y_train_smote)\n",
        "random_search_xgb.fit(X_train_smote, y_train_smote)"
      ],
      "metadata": {
        "id": "KAlEZ_Q_8BDM"
      },
      "execution_count": null,
      "outputs": []
    },
    {
      "cell_type": "code",
      "source": [
        "# Get the model with best score\n",
        "\n",
        "best_model = None\n",
        "best_score = 0\n",
        "\n",
        "if random_search_dt.best_score_ > best_score:\n",
        "  best_model = random_search_dt.best_estimator_\n",
        "  best_score = random_search_dt.best_score_\n",
        "\n",
        "if random_search_rf.best_score_ > best_score:\n",
        "  best_model = random_search_rf.best_estimator_\n",
        "  best_score = random_search_rf.best_score_\n",
        "\n",
        "if random_search_xgb.best_score_ > best_score:\n",
        "  best_model = random_search_xgb.best_estimator_\n",
        "  best_score = random_search_xgb.best_score_\n",
        "\n"
      ],
      "metadata": {
        "id": "wCp6uMTP8EEo"
      },
      "execution_count": null,
      "outputs": []
    },
    {
      "cell_type": "code",
      "source": [
        "print(f\"Best Model: {best_model}\")\n",
        "print(f\"Best Cross-Validation Accuracy: {best_score:.2f}\")"
      ],
      "metadata": {
        "id": "AykAkxOM8NN2"
      },
      "execution_count": null,
      "outputs": []
    },
    {
      "cell_type": "code",
      "source": [
        "# save the best model\n",
        "with open(\"best_model.pkl\", \"wb\") as f:\n",
        "  pickle.dump(best_model, f)"
      ],
      "metadata": {
        "id": "W8EPR__h8Q-i"
      },
      "execution_count": null,
      "outputs": []
    },
    {
      "cell_type": "markdown",
      "source": [
        "7. Evaluation"
      ],
      "metadata": {
        "id": "R7bO119e8XLY"
      }
    },
    {
      "cell_type": "code",
      "source": [
        "# evaluate on test data\n",
        "y_test_pred = best_model.predict(X_test)\n",
        "print(\"Accuracy score:\\n\", accuracy_score(y_test, y_test_pred))\n",
        "print(\"Confusion Matrix:\\n\", confusion_matrix(y_test, y_test_pred))\n",
        "print(\"Classification Report:\\n\", classification_report(y_test, y_test_pred))"
      ],
      "metadata": {
        "id": "PjZ1S4y-8U2Y",
        "collapsed": true
      },
      "execution_count": null,
      "outputs": []
    }
  ]
}